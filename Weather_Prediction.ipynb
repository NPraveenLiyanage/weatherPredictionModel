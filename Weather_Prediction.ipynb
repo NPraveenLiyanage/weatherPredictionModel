{
  "nbformat": 4,
  "nbformat_minor": 0,
  "metadata": {
    "colab": {
      "provenance": [],
      "mount_file_id": "152uxLbrYUf6KgpURtvv0yHOFFO7O9Eu8",
      "authorship_tag": "ABX9TyMEhZ1bFpx7M4s/ePWmWXet",
      "include_colab_link": true
    },
    "kernelspec": {
      "name": "python3",
      "display_name": "Python 3"
    },
    "language_info": {
      "name": "python"
    }
  },
  "cells": [
    {
      "cell_type": "markdown",
      "metadata": {
        "id": "view-in-github",
        "colab_type": "text"
      },
      "source": [
        "<a href=\"https://colab.research.google.com/github/NPraveenLiyanage/weatherPredictionModel/blob/main/Weather_Prediction.ipynb\" target=\"_parent\"><img src=\"https://colab.research.google.com/assets/colab-badge.svg\" alt=\"Open In Colab\"/></a>"
      ]
    },
    {
      "cell_type": "markdown",
      "source": [],
      "metadata": {
        "id": "ezS0hkc_vzOa"
      }
    },
    {
      "cell_type": "markdown",
      "source": [
        "impory lib"
      ],
      "metadata": {
        "id": "QEu7rWyfrAQb"
      }
    },
    {
      "cell_type": "code",
      "execution_count": null,
      "metadata": {
        "id": "Fo9ryFkJnQry"
      },
      "outputs": [],
      "source": [
        "import requests #this lib help us to fetch data from API\n",
        "import pandas as pd #for handling and analyzing data\n",
        "import numpy as np #for numerical operations\n",
        "from sklearn.model_selection import train_test_split #to split data into training and testing\n",
        "from sklearn.preprocessing import LabelEncoder #to convert categorical data into numerical values\n",
        "from sklearn.ensemble import RandomForestClassifier, RandomForestRegressor #to build a random forest classification and regression model\n",
        "from sklearn.metrics import mean_squared_error #to measure the accuracy of our predictions\n",
        "from datetime import datetime, timedelta #to work with dates and times\n",
        "import pytz"
      ]
    },
    {
      "cell_type": "code",
      "source": [
        "API_Key = '270a56acbb0149f9b461c746fdd7073c'\n",
        "BASE_URL = 'https://api.openweathermap.org/data/2.5/'"
      ],
      "metadata": {
        "id": "U6b4t3G3uCqi"
      },
      "execution_count": null,
      "outputs": []
    },
    {
      "cell_type": "markdown",
      "source": [
        "Fetch current weather data"
      ],
      "metadata": {
        "id": "bbA2z2-JukEG"
      }
    },
    {
      "cell_type": "code",
      "source": [
        "def fetch_current_weather(city):\n",
        "    url = f\"{BASE_URL}weather?q={city}&appid={API_Key}&units=metric\" #construct the api request url\n",
        "    response = requests.get(url)\n",
        "    data = response.json()\n",
        "    return {\n",
        "        'city': data['name'],\n",
        "        'current_temp': round(data['main']['temp']),\n",
        "        'feels_like': round(data['main']['feels_like']),\n",
        "        'temp_min': round(data['main']['temp_min']),\n",
        "        'temp_max': round(data['main']['temp_max']),\n",
        "        'humidity': round(data['main']['humidity']),\n",
        "        'description': data['weather'][0]['description'],\n",
        "        'country': data['sys']['country'],\n",
        "        'wind_gust_dir': data['wind']['deg'],\n",
        "        'pressure': data['main']['pressure'],\n",
        "        'wind_gust_speed': data['wind']['speed']\n",
        "    }"
      ],
      "metadata": {
        "id": "wOWXFhq-us29"
      },
      "execution_count": null,
      "outputs": []
    },
    {
      "cell_type": "markdown",
      "source": [
        "Read historical data"
      ],
      "metadata": {
        "id": "NhJjHJRsw63H"
      }
    },
    {
      "cell_type": "code",
      "source": [
        "def read_historical_data(filename):\n",
        "    df = pd.read_csv(filename) #this read csv file into dataframe\n",
        "    df = df.dropna() #remove rows with missing values\n",
        "    df = df.drop_duplicates() #remove duplicate rows\n",
        "    return df"
      ],
      "metadata": {
        "id": "l_0PRXftw_SU"
      },
      "execution_count": null,
      "outputs": []
    },
    {
      "cell_type": "markdown",
      "source": [
        "Prepare data for training"
      ],
      "metadata": {
        "id": "3901c_CiyTpB"
      }
    },
    {
      "cell_type": "code",
      "source": [
        "def prepare_data(data):\n",
        "    le = LabelEncoder() #create a labelEncounter instance\n",
        "    data['WindGustDir'] = le.fit_transform(data['WindGustDir'])\n",
        "    data['RainTomorrow'] = le.fit_transform(data['RainTomorrow'])\n",
        "\n",
        "    #define feature variable and target variables\n",
        "    X = data[['MinTemp', 'MaxTemp', 'WindGustDir', 'WindGustSpeed', 'Humidity', 'Pressure', 'Temp']] #feature variables\n",
        "    y = data['RainTomorrow'] #target variable\n",
        "\n",
        "    return X, y, le  #return feature variable, target variable and label encoder"
      ],
      "metadata": {
        "id": "R5xfGXSvyYPR"
      },
      "execution_count": null,
      "outputs": []
    },
    {
      "cell_type": "markdown",
      "source": [
        "Train Rain predication model"
      ],
      "metadata": {
        "id": "TNc6mOVL_3wU"
      }
    },
    {
      "cell_type": "code",
      "source": [
        "def train_rain_model(X, y):\n",
        "  X_train, X_test, y_train, y_test = train_test_split(X, y, test_size=0.2, random_state=42)\n",
        "  model = RandomForestClassifier(n_estimators=100, random_state=42)\n",
        "  model.fit(X_train, y_train) #train the model\n",
        "\n",
        "  y_pred = model.predict(X_test) #to make prediction on test set\n",
        "  accuracy = np.mean(y_pred == y_test)\n",
        "\n",
        "  print(\"Mean square error for Rain model\")\n",
        "  print(mean_squared_error(y_test, y_pred))\n",
        "\n",
        "  print(f'Accuracy: {accuracy}')\n",
        "  return model"
      ],
      "metadata": {
        "id": "1ePdEra3_8qV"
      },
      "execution_count": null,
      "outputs": []
    },
    {
      "cell_type": "markdown",
      "source": [
        "Prepare regression data"
      ],
      "metadata": {
        "id": "xWjxGyM1CGRQ"
      }
    },
    {
      "cell_type": "code",
      "source": [
        "def prepare_regression_data(data, feature):\n",
        "  X, y = [], [] #initialze test for feature and target value\n",
        "\n",
        "  for i in range(len(data) - 1):\n",
        "    X.append(data[feature].iloc[i])\n",
        "    y.append(data[feature].iloc[i+1])\n",
        "\n",
        "  X = np.array(X).reshape(-1, 1)\n",
        "  y = np.array(y)\n",
        "\n",
        "  return X, y"
      ],
      "metadata": {
        "id": "PNrMIeeuCOlN"
      },
      "execution_count": null,
      "outputs": []
    },
    {
      "cell_type": "markdown",
      "source": [
        "Train regression model"
      ],
      "metadata": {
        "id": "jpLJmCMhD_Kf"
      }
    },
    {
      "cell_type": "code",
      "source": [
        "def train_regression_model(X, y):\n",
        "  model = RandomForestRegressor(n_estimators=100, random_state=42)\n",
        "  model.fit(X, y)\n",
        "  return model"
      ],
      "metadata": {
        "id": "2EF5VGgpEDcF"
      },
      "execution_count": null,
      "outputs": []
    },
    {
      "cell_type": "markdown",
      "source": [
        "Predict Future"
      ],
      "metadata": {
        "id": "ieCwEm0wEcKO"
      }
    },
    {
      "cell_type": "code",
      "source": [
        "def predict_future(model, current_value):\n",
        "  predictions = [current_value]\n",
        "\n",
        "  for i in range(5):\n",
        "    next_value = model.predict(np.array([[predictions[-1]]]))\n",
        "    predictions.append(next_value[0])\n",
        "\n",
        "  return predictions[1:]"
      ],
      "metadata": {
        "id": "ufbdFDH9EfYp"
      },
      "execution_count": null,
      "outputs": []
    },
    {
      "cell_type": "markdown",
      "source": [
        "Weather analysis function"
      ],
      "metadata": {
        "id": "NC69acrNFvl3"
      }
    },
    {
      "source": [
        "def weather_view():\n",
        "  city = input(\"Enter the city name: \")\n",
        "  current_weather = fetch_current_weather(city)\n",
        "\n",
        "  #load historical data\n",
        "  data = read_historical_data('/content/weather.csv')\n",
        "\n",
        "  #prepare and train the rain prediction model\n",
        "\n",
        "  X, y, le = prepare_data(data)\n",
        "  rain_model = train_rain_model(X, y)\n",
        "\n",
        "  #map wind direction to campass points\n",
        "  wind_deg = current_weather['wind_gust_dir'] % 360\n",
        "  compass_points = [\n",
        "        (\"N\", 0, 11.25), (\"NNE\", 11.25, 33.75), (\"NE\", 33.75, 56.25),\n",
        "        (\"ENE\", 56.25, 78.75), (\"E\", 78.75, 101.25), (\"ESE\", 101.25, 123.75),\n",
        "        (\"SE\", 123.75, 146.25), (\"SSE\", 146.25, 168.75), (\"S\", 168.75, 191.25),\n",
        "        (\"SSW\", 191.25, 213.75), (\"SW\", 213.75, 236.25), (\"WSW\", 236.25, 258.75),\n",
        "        (\"W\", 258.75, 281.25), (\"WNW\", 281.25, 303.75), (\"NW\", 303.75, 326.25),\n",
        "        (\"NNW\", 326.25, 348.75)\n",
        "  ]\n",
        "\n",
        "  # Corrected comparison and added a default value for next()\n",
        "  compass_direction = next((point for point, start, end in compass_points if start < wind_deg < end), \"Unknown\")\n",
        "\n",
        "  # Handle the case where compass_direction is \"Unknown\"\n",
        "  if compass_direction != \"Unknown\" and compass_direction in le.classes_:\n",
        "      compass_direction_encoded = le.transform([compass_direction])[0]\n",
        "  else:\n",
        "      compass_direction_encoded = -1 # Or another value indicating unknown direction\n",
        "\n",
        "  current_data = {\n",
        "      'MinTemp': current_weather['temp_min'],\n",
        "      'MaxTemp': current_weather['temp_max'],\n",
        "      'WindGustDir': compass_direction_encoded,\n",
        "      'WindGustSpeed': current_weather['wind_gust_speed'], # Corrected key here\n",
        "      'Humidity': current_weather['humidity'],\n",
        "      'Pressure': current_weather['pressure'],\n",
        "      'Temp': current_weather['current_temp'],\n",
        "  }\n",
        "\n",
        "  current_df = pd.DataFrame([current_data])\n",
        "\n",
        "  #rain prediction\n",
        "\n",
        "  rain_prediction = rain_model.predict(current_df)[0]\n",
        "\n",
        " #prepare regression model for temp and humidity\n",
        "\n",
        "  X_temp, y_temp = prepare_regression_data(data, 'Temp')\n",
        "  X_hum, y_hum = prepare_regression_data(data, 'Humidity')\n",
        "\n",
        "  temp_model = train_regression_model(X_temp, y_temp)\n",
        "  hum_model = train_regression_model(X_hum, y_hum)\n",
        "\n",
        "  #predict future temp and humidity\n",
        "\n",
        "  future_temp = predict_future(temp_model, current_weather['temp_min'])\n",
        "  future_humidity = predict_future(hum_model, current_weather['humidity'])\n",
        "\n",
        "  #prepare time for future prediction\n",
        "\n",
        "  timezone = pytz.timezone('Asia/Kolkata')\n",
        "  now = datetime.now(timezone)\n",
        "  next_hour = now + timedelta(hours=1)\n",
        "  next_hour = next_hour.replace(minute=0, second=0, microsecond=0)\n",
        "\n",
        "  # Corrected date formatting for future_times\n",
        "  future_times = [(next_hour + timedelta(hours=i)).strftime(\"%HH:%MM\") for i in range(5)]\n",
        "\n",
        "  #Display result\n",
        "\n",
        "  print(f\"city: {city}, {current_weather['country']}\")\n",
        "  print(f\"Current Temperature: {current_weather['current_temp']}°C\")\n",
        "  print(f\"Feels Like: {current_weather['feels_like']}°C\")\n",
        "  print(f\"Min Temperature: {current_weather['temp_min']}°C\")\n",
        "  print(f\"Max Temperature: {current_weather['temp_max']}°C\")\n",
        "  print(f\"Humidity: {current_weather['humidity']}%\")\n",
        "  print(f\"Weather Prediction: {current_weather['description']}\")\n",
        "  print(f\"Rain Prediction: {'Yes' if rain_prediction else 'No'}\")\n",
        "  # Consider displaying compass direction instead of raw degrees\n",
        "  print(f\"Wind Gust Direction: {compass_direction}\")\n",
        "\n",
        "  print(\"Future Temperature Predictions:\")\n",
        "  for time, temp in zip(future_times, future_temp):\n",
        "    print(f\"{time}: {round(temp, 1)}°C\")\n",
        "\n",
        "  print(\"Future Humidity Predictions:\")\n",
        "  for time, humidity in zip(future_times, future_humidity):\n",
        "    print(f\"{time}: {round(humidity, 1)}%\")\n",
        "\n",
        "weather_view()"
      ],
      "cell_type": "code",
      "metadata": {
        "colab": {
          "base_uri": "https://localhost:8080/"
        },
        "id": "g-TpyR8NHfpk",
        "outputId": "db610dfa-4ce4-4128-dcd0-048bda062509"
      },
      "execution_count": null,
      "outputs": [
        {
          "output_type": "stream",
          "name": "stdout",
          "text": [
            "Enter the city name: England\n",
            "Mean square error for Rain model\n",
            "0.1506849315068493\n",
            "Accuracy: 0.8493150684931506\n",
            "city: England, US\n",
            "Current Temperature: 28°C\n",
            "Feels Like: 31°C\n",
            "Min Temperature: 28°C\n",
            "Max Temperature: 29°C\n",
            "Humidity: 70%\n",
            "Weather Prediction: overcast clouds\n",
            "Rain Prediction: Yes\n",
            "Wind Gust Direction: SW\n",
            "Future Temperature Predictions:\n",
            "01H:00M: 27.7°C\n",
            "02H:00M: 22.8°C\n",
            "03H:00M: 25.4°C\n",
            "04H:00M: 24.7°C\n",
            "05H:00M: 23.4°C\n",
            "Future Humidity Predictions:\n",
            "01H:00M: 64.8%\n",
            "02H:00M: 56.2%\n",
            "03H:00M: 45.2%\n",
            "04H:00M: 46.3%\n",
            "05H:00M: 48.2%\n"
          ]
        }
      ]
    }
  ]
}